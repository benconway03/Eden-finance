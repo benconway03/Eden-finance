{
 "cells": [
  {
   "cell_type": "code",
   "execution_count": 4,
   "id": "207a11f5",
   "metadata": {},
   "outputs": [
    {
     "ename": "ModuleNotFoundError",
     "evalue": "No module named 'yfinance'",
     "output_type": "error",
     "traceback": [
      "\u001b[31m---------------------------------------------------------------------------\u001b[39m",
      "\u001b[31mModuleNotFoundError\u001b[39m                       Traceback (most recent call last)",
      "\u001b[36mCell\u001b[39m\u001b[36m \u001b[39m\u001b[32mIn[4]\u001b[39m\u001b[32m, line 1\u001b[39m\n\u001b[32m----> \u001b[39m\u001b[32m1\u001b[39m \u001b[38;5;28;01mimport\u001b[39;00m\u001b[38;5;250m \u001b[39m\u001b[34;01myfinance\u001b[39;00m\u001b[38;5;250m \u001b[39m\u001b[38;5;28;01mas\u001b[39;00m\u001b[38;5;250m \u001b[39m\u001b[34;01myf\u001b[39;00m\n\u001b[32m      2\u001b[39m \u001b[38;5;28;01mimport\u001b[39;00m\u001b[38;5;250m \u001b[39m\u001b[34;01mIPython\u001b[39;00m\n\u001b[32m      3\u001b[39m \u001b[38;5;28;01mimport\u001b[39;00m\u001b[38;5;250m \u001b[39m\u001b[34;01mpandas\u001b[39;00m\u001b[38;5;250m \u001b[39m\u001b[38;5;28;01mas\u001b[39;00m\u001b[38;5;250m \u001b[39m\u001b[34;01mpd\u001b[39;00m\n",
      "\u001b[31mModuleNotFoundError\u001b[39m: No module named 'yfinance'"
     ]
    }
   ],
   "source": [
    "import yfinance as yf\n",
    "import IPython\n",
    "import pandas as pd\n",
    "import matplotlib.pyplot as plt"
   ]
  },
  {
   "cell_type": "code",
   "execution_count": 35,
   "id": "e0e28bb3",
   "metadata": {},
   "outputs": [],
   "source": [
    "def value_change(row, start_val, initial_price):\n",
    "    value = float((row/initial_price)*start_val)\n",
    "    return value"
   ]
  },
  {
   "cell_type": "code",
   "execution_count": null,
   "id": "6b601859",
   "metadata": {},
   "outputs": [],
   "source": [
    "def inv_calc(start_date, end_date, stocks):\n",
    "    if not all(isinstance(item, tuple) and len(item) == 2 for item in stocks):\n",
    "        return \"Input a Ticker and a Value\"\n",
    "    else:\n",
    "        tickers = [ticker for ticker, _ in stocks]\n",
    "        investments = dict(stocks)\n",
    "        starting_val = sum(investments.values())\n",
    "        prices  = yf.download(tickers, start=start_date, end=end_date, auto_adjust=True, progress=False).Close\n",
    "        latest_prices = prices.iloc[-1]\n",
    "        initial_prices = prices.iloc[0]\n",
    "        for item in investments:\n",
    "            start_val = float(investments[item])\n",
    "            initial_price = float(prices[f\"{item}\"].iloc[0])\n",
    "            prices[f\"{item}_value\"] = ((pd.to_numeric(prices[item], errors=\"coerce\")/initial_price)*start_val)\n",
    "        \n",
    "        prices.plot(\n",
    "            x=\"Date\",\n",
    "            y=[f\"{item}_value\" for item in investments],\n",
    "            figsize=(10, 5),\n",
    "            title = \"Value of Investments\",\n",
    "            grid=True\n",
    "        )\n",
    "        plt.show()"
   ]
  },
  {
   "cell_type": "code",
   "execution_count": null,
   "id": "d6641272",
   "metadata": {},
   "outputs": [
    {
     "ename": "",
     "evalue": "",
     "output_type": "error",
     "traceback": [
      "\u001b[1;31mRunning cells with 'venv (Python 3.12.2)' requires the ipykernel package.\n",
      "\u001b[1;31mInstall 'ipykernel' into the Python environment. \n",
      "\u001b[1;31mCommand: 'c:/Users/benjb/OneDrive/Documents/GitHub/Eden-finance/venv/Scripts/python.exe -m pip install ipykernel -U --force-reinstall'"
     ]
    }
   ],
   "source": [
    "def inv_calc(start_date: str, end_date: str, stocks):\n",
    "    \"\"\"\n",
    "    Parameters\n",
    "    ----------\n",
    "    start_date, end_date : str (yyyy-mm-dd)\n",
    "    stocks               : iterable of (ticker, amount_in_£) tuples\n",
    "    \"\"\"\n",
    "    # 1) Guard-rail checks -----------------------------------------------------\n",
    "    if not stocks or not all(isinstance(t, tuple) and len(t) == 2 for t in stocks):\n",
    "        raise ValueError(\"Stocks must be an iterable of (ticker, amount) tuples\")\n",
    "\n",
    "    tickers, amounts = zip(*stocks)\n",
    "    amounts = pd.Series(amounts, index=tickers, dtype=float)  # £ invested\n",
    "\n",
    "    # 2) Pull prices -----------------------------------------------------------\n",
    "    raw = yf.download(list(tickers),\n",
    "                      start=start_date,\n",
    "                      end=end_date,\n",
    "                      auto_adjust=True,\n",
    "                      progress=False)\n",
    "\n",
    "    # raw columns are         Open  High  Low  Close  Adj Close  Volume\n",
    "    # keep *only* the Close rows and flatten any MultiIndex:\n",
    "    close = raw[\"Close\"]\n",
    "    if isinstance(close, pd.Series):        # happens when just one ticker asked\n",
    "        close = close.to_frame()\n",
    "\n",
    "    close = close.loc[:, tickers]           # ensure column order matches 'amounts'\n",
    "    close = close.sort_index()              # chronological order\n",
    "\n",
    "    # 3) Vectorised value computation -----------------------------------------\n",
    "    # multiplier = £invested / price_on_first_day\n",
    "    initial_prices = close.iloc[0]\n",
    "    multiplier = amounts / initial_prices    # Series indexed by ticker\n",
    "\n",
    "    values = close.multiply(multiplier, axis=1)   # broadcast column-wise\n",
    "    values.columns = [f\"{c}_value\" for c in values.columns]\n",
    "\n",
    "    # 4) Plot ------------------------------------------------------------------\n",
    "    ax = values.plot(figsize=(10, 5),\n",
    "                     title=\"Value of Investments (£)\",\n",
    "                     grid=True)\n",
    "    ax.set_xlabel(\"Date\")\n",
    "    ax.set_ylabel(\"£\")\n",
    "    plt.tight_layout()\n",
    "    plt.show()\n",
    "\n",
    "    return values"
   ]
  },
  {
   "cell_type": "code",
   "execution_count": 79,
   "id": "768a07c8",
   "metadata": {},
   "outputs": [
    {
     "data": {
      "image/png": "[encoded data removed]",
      "text/plain": [
       "<Figure size 1000x500 with 1 Axes>"
      ]
     },
     "metadata": {},
     "output_type": "display_data"
    },
    {
     "data": {
      "application/vnd.microsoft.datawrangler.viewer.v0+json": {
       "columns": [
        {
         "name": "Date",
         "rawType": "datetime64[ns]",
         "type": "datetime"
        },
        {
         "name": "MSFT_value",
         "rawType": "float64",
         "type": "float"
        },
        {
         "name": "AAPL_value",
         "rawType": "float64",
         "type": "float"
        }
       ],
       "ref": "1e1ae113-2204-4037-9812-dea09d48dcd1",
       "rows": [
        [
         "2010-01-04 00:00:00",
         "999.9999999999999",
         "999.9999999999999"
        ],
        [
         "2010-01-05 00:00:00",
         "1000.3231033966202",
         "1001.7285620789243"
        ],
        [
         "2010-01-06 00:00:00",
         "994.1841388608336",
         "985.7948168047429"
        ],
        [
         "2010-01-07 00:00:00",
         "983.8451588601287",
         "983.972546436757"
        ],
        [
         "2010-01-08 00:00:00",
         "990.6300014980098",
         "990.5140374127378"
        ],
        [
         "2010-01-11 00:00:00",
         "978.0292977209623",
         "981.7763325481803"
        ],
        [
         "2010-01-12 00:00:00",
         "971.5670654429823",
         "970.6085137539154"
        ],
        [
         "2010-01-13 00:00:00",
         "980.6139605483521",
         "984.2993392675985"
        ],
        [
         "2010-01-14 00:00:00",
         "1000.3231033966202",
         "978.5989246677284"
        ],
        [
         "2010-01-15 00:00:00",
         "997.0918229120572",
         "962.2446782736441"
        ],
        [
         "2010-01-19 00:00:00",
         "1004.8467974676647",
         "1004.8124840792285"
        ],
        [
         "2010-01-20 00:00:00",
         "988.3686064128135",
         "989.3459457968718"
        ],
        [
         "2010-01-21 00:00:00",
         "969.6286094088333",
         "972.2438123616059"
        ],
        [
         "2010-01-22 00:00:00",
         "935.7027527636967",
         "924.0220754191591"
        ],
        [
         "2010-01-25 00:00:00",
         "947.3343928692427",
         "948.8806455908025"
        ],
        [
         "2010-01-26 00:00:00",
         "953.1506648723416",
         "962.2912358729563"
        ],
        [
         "2010-01-27 00:00:00",
         "958.6430117509549",
         "971.356178386183"
        ],
        [
         "2010-01-28 00:00:00",
         "942.1650672144633",
         "931.2177451472598"
        ],
        [
         "2010-01-29 00:00:00",
         "910.5008521728826",
         "897.4346466233729"
        ],
        [
         "2010-02-01 00:00:00",
         "917.9323124679371",
         "909.91037810405"
        ],
        [
         "2010-02-02 00:00:00",
         "919.5479937966119",
         "915.1907364018448"
        ],
        [
         "2010-02-03 00:00:00",
         "925.0402585024387",
         "930.9376581883399"
        ],
        [
         "2010-02-04 00:00:00",
         "899.5155832061504",
         "897.3877924788421"
        ],
        [
         "2010-02-05 00:00:00",
         "905.3311156541705",
         "913.3216118893281"
        ],
        [
         "2010-02-08 00:00:00",
         "895.6382602739196",
         "907.060059599658"
        ],
        [
         "2010-02-09 00:00:00",
         "905.0081766031232",
         "916.7326232656923"
        ],
        [
         "2010-02-10 00:00:00",
         "904.361887637096",
         "911.7328708809498"
        ],
        [
         "2010-02-11 00:00:00",
         "908.5619031020144",
         "928.3209431798603"
        ],
        [
         "2010-02-12 00:00:00",
         "902.4236781213066",
         "936.3110575484546"
        ],
        [
         "2010-02-16 00:00:00",
         "920.2768664130978",
         "950.4226807272593"
        ],
        [
         "2010-02-17 00:00:00",
         "928.0677504764172",
         "946.4509023426182"
        ],
        [
         "2010-02-18 00:00:00",
         "940.4028718074126",
         "948.2262444297687"
        ],
        [
         "2010-02-19 00:00:00",
         "933.9106464623505",
         "942.3387839332986"
        ],
        [
         "2010-02-22 00:00:00",
         "932.6121520896662",
         "936.4981034450547"
        ],
        [
         "2010-02-23 00:00:00",
         "919.6277013995422",
         "920.7977392578717"
        ],
        [
         "2010-02-24 00:00:00",
         "929.365998330742",
         "937.6196374616085"
        ],
        [
         "2010-02-25 00:00:00",
         "928.3920042920489",
         "943.88089320606"
        ],
        [
         "2010-02-26 00:00:00",
         "930.6645748762128",
         "956.1230953271294"
        ],
        [
         "2010-03-01 00:00:00",
         "942.0260308596612",
         "976.5429766675256"
        ],
        [
         "2010-03-02 00:00:00",
         "923.8480957155191",
         "975.8886496427964"
        ],
        [
         "2010-03-03 00:00:00",
         "923.8480957155191",
         "978.1314211306853"
        ],
        [
         "2010-03-04 00:00:00",
         "929.365998330742",
         "984.5797227717369"
        ],
        [
         "2010-03-05 00:00:00",
         "928.0677504764172",
         "1023.0827091303603"
        ],
        [
         "2010-03-08 00:00:00",
         "929.365998330742",
         "1023.690330283168"
        ],
        [
         "2010-03-09 00:00:00",
         "934.884393982684",
         "1042.100524677455"
        ],
        [
         "2010-03-10 00:00:00",
         "940.4028718074126",
         "1050.6049967276235"
        ],
        [
         "2010-03-11 00:00:00",
         "947.2197618320389",
         "1053.6886221827092"
        ],
        [
         "2010-03-12 00:00:00",
         "950.1414974297584",
         "1058.8287887284348"
        ],
        [
         "2010-03-15 00:00:00",
         "950.790498097741",
         "1045.932333718941"
        ],
        [
         "2010-03-16 00:00:00",
         "953.3874046703231",
         "1048.7823556781143"
        ]
       ],
       "shape": {
        "columns": 2,
        "rows": 3774
       }
      },
      "text/html": [
       "<div>\n",
       "<style scoped>\n",
       "    .dataframe tbody tr th:only-of-type {\n",
       "        vertical-align: middle;\n",
       "    }\n",
       "\n",
       "    .dataframe tbody tr th {\n",
       "        vertical-align: top;\n",
       "    }\n",
       "\n",
       "    .dataframe thead th {\n",
       "        text-align: right;\n",
       "    }\n",
       "</style>\n",
       "<table border=\"1\" class=\"dataframe\">\n",
       "  <thead>\n",
       "    <tr style=\"text-align: right;\">\n",
       "      <th></th>\n",
       "      <th>MSFT_value</th>\n",
       "      <th>AAPL_value</th>\n",
       "    </tr>\n",
       "    <tr>\n",
       "      <th>Date</th>\n",
       "      <th></th>\n",
       "      <th></th>\n",
       "    </tr>\n",
       "  </thead>\n",
       "  <tbody>\n",
       "    <tr>\n",
       "      <th>2010-01-04</th>\n",
       "      <td>1000.000000</td>\n",
       "      <td>1000.000000</td>\n",
       "    </tr>\n",
       "    <tr>\n",
       "      <th>2010-01-05</th>\n",
       "      <td>1000.323103</td>\n",
       "      <td>1001.728562</td>\n",
       "    </tr>\n",
       "    <tr>\n",
       "      <th>2010-01-06</th>\n",
       "      <td>994.184139</td>\n",
       "      <td>985.794817</td>\n",
       "    </tr>\n",
       "    <tr>\n",
       "      <th>2010-01-07</th>\n",
       "      <td>983.845159</td>\n",
       "      <td>983.972546</td>\n",
       "    </tr>\n",
       "    <tr>\n",
       "      <th>2010-01-08</th>\n",
       "      <td>990.630001</td>\n",
       "      <td>990.514037</td>\n",
       "    </tr>\n",
       "    <tr>\n",
       "      <th>...</th>\n",
       "      <td>...</td>\n",
       "      <td>...</td>\n",
       "    </tr>\n",
       "    <tr>\n",
       "      <th>2024-12-24</th>\n",
       "      <td>18854.815395</td>\n",
       "      <td>40047.070029</td>\n",
       "    </tr>\n",
       "    <tr>\n",
       "      <th>2024-12-26</th>\n",
       "      <td>18802.456210</td>\n",
       "      <td>40174.247598</td>\n",
       "    </tr>\n",
       "    <tr>\n",
       "      <th>2024-12-27</th>\n",
       "      <td>18477.144009</td>\n",
       "      <td>39642.252593</td>\n",
       "    </tr>\n",
       "    <tr>\n",
       "      <th>2024-12-30</th>\n",
       "      <td>18232.514966</td>\n",
       "      <td>39116.458942</td>\n",
       "    </tr>\n",
       "    <tr>\n",
       "      <th>2024-12-31</th>\n",
       "      <td>18089.601371</td>\n",
       "      <td>38840.380088</td>\n",
       "    </tr>\n",
       "  </tbody>\n",
       "</table>\n",
       "<p>3774 rows × 2 columns</p>\n",
       "</div>"
      ],
      "text/plain": [
       "              MSFT_value    AAPL_value\n",
       "Date                                  \n",
       "2010-01-04   1000.000000   1000.000000\n",
       "2010-01-05   1000.323103   1001.728562\n",
       "2010-01-06    994.184139    985.794817\n",
       "2010-01-07    983.845159    983.972546\n",
       "2010-01-08    990.630001    990.514037\n",
       "...                  ...           ...\n",
       "2024-12-24  18854.815395  40047.070029\n",
       "2024-12-26  18802.456210  40174.247598\n",
       "2024-12-27  18477.144009  39642.252593\n",
       "2024-12-30  18232.514966  39116.458942\n",
       "2024-12-31  18089.601371  38840.380088\n",
       "\n",
       "[3774 rows x 2 columns]"
      ]
     },
     "execution_count": 79,
     "metadata": {},
     "output_type": "execute_result"
    }
   ],
   "source": [
    "inv_calc(\"2010-01-01\",\"2025-01-01\",[(\"MSFT\",1000),(\"AAPL\",1000)])"
   ]
  },
  {
   "cell_type": "code",
   "execution_count": 34,
   "id": "6eebf96f",
   "metadata": {},
   "outputs": [
    {
     "name": "stdout",
     "output_type": "stream",
     "text": [
      "18.089601370773554\n"
     ]
    }
   ],
   "source": [
    "companies = [('MSFT',1)]\n",
    "output = inv_calc(\"2010-01-01\",\"2025-01-01\",companies)[0]\n",
    "print(output)"
   ]
  }
 ],
 "metadata": {
  "kernelspec": {
   "display_name": "venv",
   "language": "python",
   "name": "python3"
  },
  "language_info": {
   "codemirror_mode": {
    "name": "ipython",
    "version": 3
   },
   "file_extension": ".py",
   "mimetype": "text/x-python",
   "name": "python",
   "nbconvert_exporter": "python",
   "pygments_lexer": "ipython3",
   "version": "3.12.2"
  }
 },
 "nbformat": 4,
 "nbformat_minor": 5
}
